{
 "cells": [
  {
   "cell_type": "markdown",
   "id": "eec44dcb",
   "metadata": {},
   "source": [
    "### Step-by-step implementation"
   ]
  },
  {
   "cell_type": "code",
   "execution_count": 1,
   "id": "b6a35825",
   "metadata": {},
   "outputs": [
    {
     "data": {
      "text/html": [
       "<div>\n",
       "<style scoped>\n",
       "    .dataframe tbody tr th:only-of-type {\n",
       "        vertical-align: middle;\n",
       "    }\n",
       "\n",
       "    .dataframe tbody tr th {\n",
       "        vertical-align: top;\n",
       "    }\n",
       "\n",
       "    .dataframe thead th {\n",
       "        text-align: right;\n",
       "    }\n",
       "</style>\n",
       "<table border=\"1\" class=\"dataframe\">\n",
       "  <thead>\n",
       "    <tr style=\"text-align: right;\">\n",
       "      <th></th>\n",
       "      <th>Petal_Length</th>\n",
       "      <th>Label</th>\n",
       "    </tr>\n",
       "  </thead>\n",
       "  <tbody>\n",
       "    <tr>\n",
       "      <th>0</th>\n",
       "      <td>1.4</td>\n",
       "      <td>0.0</td>\n",
       "    </tr>\n",
       "    <tr>\n",
       "      <th>1</th>\n",
       "      <td>1.0</td>\n",
       "      <td>0.0</td>\n",
       "    </tr>\n",
       "    <tr>\n",
       "      <th>2</th>\n",
       "      <td>1.5</td>\n",
       "      <td>0.0</td>\n",
       "    </tr>\n",
       "    <tr>\n",
       "      <th>3</th>\n",
       "      <td>3.1</td>\n",
       "      <td>1.0</td>\n",
       "    </tr>\n",
       "    <tr>\n",
       "      <th>4</th>\n",
       "      <td>3.8</td>\n",
       "      <td>1.0</td>\n",
       "    </tr>\n",
       "    <tr>\n",
       "      <th>5</th>\n",
       "      <td>4.1</td>\n",
       "      <td>1.0</td>\n",
       "    </tr>\n",
       "  </tbody>\n",
       "</table>\n",
       "</div>"
      ],
      "text/plain": [
       "   Petal_Length  Label\n",
       "0           1.4    0.0\n",
       "1           1.0    0.0\n",
       "2           1.5    0.0\n",
       "3           3.1    1.0\n",
       "4           3.8    1.0\n",
       "5           4.1    1.0"
      ]
     },
     "execution_count": 1,
     "metadata": {},
     "output_type": "execute_result"
    }
   ],
   "source": [
    "import numpy as np\n",
    "import pandas as pd\n",
    "\n",
    "data = pd.read_csv('iris_1D.csv')\n",
    "data"
   ]
  },
  {
   "cell_type": "code",
   "execution_count": 2,
   "id": "d2fd775f",
   "metadata": {},
   "outputs": [
    {
     "name": "stdout",
     "output_type": "stream",
     "text": [
      "[1.4 1.  1.5 3.1 3.8 4.1]\n"
     ]
    }
   ],
   "source": [
    "# 1. data\n",
    "\n",
    "X = data['Petal_Length'].to_numpy()\n",
    "print(X)"
   ]
  },
  {
   "cell_type": "code",
   "execution_count": null,
   "id": "f8bb1085",
   "metadata": {},
   "outputs": [],
   "source": []
  },
  {
   "cell_type": "code",
   "execution_count": 4,
   "id": "601a88e5",
   "metadata": {},
   "outputs": [
    {
     "name": "stdout",
     "output_type": "stream",
     "text": [
      "Init centroids:  [1.4 1. ]\n",
      "Distances:  [[0.  0.4]\n",
      " [0.4 0. ]\n",
      " [0.1 0.5]\n",
      " [1.7 2.1]\n",
      " [2.4 2.8]\n",
      " [2.7 3.1]]\n",
      "labels:  [0 1 0 0 0 0]\n",
      "Labels: [0 1 0 0 0 0]\n",
      "Centroids: [2.78 1.  ]\n",
      "\n",
      "Distances:  [[1.38 0.4 ]\n",
      " [1.78 0.  ]\n",
      " [1.28 0.5 ]\n",
      " [0.32 2.1 ]\n",
      " [1.02 2.8 ]\n",
      " [1.32 3.1 ]]\n",
      "labels:  [1 1 1 0 0 0]\n",
      "Labels: [1 1 1 0 0 0]\n",
      "Centroids: [3.66666667 1.3       ]\n",
      "\n",
      "WCSS: 0.6666666666666662\n"
     ]
    }
   ],
   "source": [
    "k = 2\n",
    "max_iters = 2\n",
    "\n",
    "# initialize centroids\n",
    "centroids = X[:2]\n",
    "print('Init centroids: ', centroids)\n",
    "\n",
    "for _ in range(max_iters):\n",
    "    # assign points to nearest centroid\n",
    "    #distances = np.abs(X[:, np.newaxis] - centroids) \n",
    "    distances = np.sqrt( (X[:, np.newaxis] - centroids)**2 )\n",
    "    labels = np.argmin(distances, axis=1)\n",
    "    print('Distances: ', distances)\n",
    "    print('labels: ', labels)\n",
    "    \n",
    "    # update centroids\n",
    "    new_centroids = np.array([X[labels == i].mean() for i in range(k)])\n",
    "    \n",
    "    # check for convergence\n",
    "    if np.all(centroids == new_centroids):\n",
    "        break\n",
    "    \n",
    "    centroids = new_centroids    \n",
    "\n",
    "    # print\n",
    "    print(\"Labels:\", labels)\n",
    "    print(\"Centroids:\", centroids)\n",
    "    print()\n",
    "\n",
    "# calculate WCSS\n",
    "wcss = np.sum([np.sum(np.square(X[labels == i] - centroids[i])) for i in range(k)])\n",
    "print(\"WCSS:\", wcss)"
   ]
  },
  {
   "cell_type": "code",
   "execution_count": null,
   "id": "2654d818",
   "metadata": {},
   "outputs": [],
   "source": []
  },
  {
   "cell_type": "markdown",
   "id": "d1cb13de",
   "metadata": {},
   "source": [
    "### Using sklearn"
   ]
  },
  {
   "cell_type": "code",
   "execution_count": 1,
   "id": "f76c9a9b",
   "metadata": {},
   "outputs": [],
   "source": [
    "import numpy as np\n",
    "import pandas as pd\n",
    "\n",
    "data = pd.read_csv('iris_1D.csv')\n",
    "X = data['Petal_Length'].to_numpy()"
   ]
  },
  {
   "cell_type": "code",
   "execution_count": 2,
   "id": "2b8a0ae3",
   "metadata": {},
   "outputs": [
    {
     "name": "stdout",
     "output_type": "stream",
     "text": [
      "[0 0 0 1 1 1]\n",
      "0.6666666666666662\n",
      "Cluster 0: 1.4\n",
      "Cluster 0: 1.0\n",
      "Cluster 0: 1.5\n",
      "Cluster 1: 3.1\n",
      "Cluster 1: 3.8\n",
      "Cluster 1: 4.1\n"
     ]
    }
   ],
   "source": [
    "from sklearn.cluster import KMeans\n",
    "\n",
    "kmeans = KMeans(n_clusters=2)\n",
    "kmeans.fit(X.reshape(-1, 1))\n",
    "labels = kmeans.labels_\n",
    "print(labels)\n",
    "print(kmeans.inertia_)\n",
    "\n",
    "for x, label in zip(X, labels):\n",
    "    print(f\"Cluster {label}: {x}\")"
   ]
  },
  {
   "cell_type": "code",
   "execution_count": null,
   "id": "61a3b29b",
   "metadata": {},
   "outputs": [],
   "source": []
  }
 ],
 "metadata": {
  "kernelspec": {
   "display_name": "Python 3 (ipykernel)",
   "language": "python",
   "name": "python3"
  },
  "language_info": {
   "codemirror_mode": {
    "name": "ipython",
    "version": 3
   },
   "file_extension": ".py",
   "mimetype": "text/x-python",
   "name": "python",
   "nbconvert_exporter": "python",
   "pygments_lexer": "ipython3",
   "version": "3.12.4"
  }
 },
 "nbformat": 4,
 "nbformat_minor": 5
}
