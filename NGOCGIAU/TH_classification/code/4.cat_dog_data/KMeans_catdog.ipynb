{
 "cells": [
  {
   "cell_type": "code",
   "execution_count": 1,
   "id": "b6d7625b",
   "metadata": {},
   "outputs": [],
   "source": [
    "import cv2\n",
    "import os\n",
    "\n",
    "def load_images_from_folder(folder):\n",
    "    data = []   \n",
    "    for filename in os.listdir(folder):\n",
    "        if filename.lower().endswith('.jpg'):\n",
    "            img = cv2.imread(os.path.join(folder, filename))\n",
    "            data.append(img)\n",
    "    return data\n",
    "\n",
    "dog_images = load_images_from_folder('training/dog')\n",
    "cat_images = load_images_from_folder('training/cat')"
   ]
  },
  {
   "cell_type": "code",
   "execution_count": null,
   "id": "4cddb239",
   "metadata": {},
   "outputs": [],
   "source": []
  },
  {
   "cell_type": "code",
   "execution_count": 2,
   "id": "c4d5bdbe",
   "metadata": {},
   "outputs": [
    {
     "name": "stdout",
     "output_type": "stream",
     "text": [
      "(10, 224, 224, 3)\n",
      "(10, 224, 224, 3)\n"
     ]
    }
   ],
   "source": [
    "import numpy as np\n",
    "\n",
    "dog_images = np.array(dog_images)\n",
    "cat_images = np.array(cat_images)\n",
    "\n",
    "print(dog_images.shape)\n",
    "print(cat_images.shape)"
   ]
  },
  {
   "cell_type": "code",
   "execution_count": null,
   "id": "3354c571",
   "metadata": {},
   "outputs": [],
   "source": []
  },
  {
   "cell_type": "code",
   "execution_count": 4,
   "id": "938cf475",
   "metadata": {},
   "outputs": [],
   "source": [
    "\n",
    "from sklearn.cluster import KMeans\n",
    "from sklearn.metrics import silhouette_score\n",
    "\n",
    "# merge dog and cat image features\n",
    "merged_features = np.concatenate((dog_images.reshape(10, -1), cat_images.reshape(10, -1)), axis=0)\n",
    "\n",
    "# KMeans\n",
    "kmeans = KMeans(n_clusters=2, random_state=0).fit(merged_features)"
   ]
  },
  {
   "cell_type": "code",
   "execution_count": 5,
   "id": "95c7dde6",
   "metadata": {},
   "outputs": [
    {
     "data": {
      "text/plain": [
       "array([0, 1, 0, 1, 1, 1, 1, 1, 0, 1, 0, 1, 1, 1, 1, 1, 0, 1, 0, 1],\n",
       "      dtype=int32)"
      ]
     },
     "execution_count": 5,
     "metadata": {},
     "output_type": "execute_result"
    }
   ],
   "source": [
    "kmeans.labels_"
   ]
  },
  {
   "cell_type": "code",
   "execution_count": null,
   "id": "278a0d72",
   "metadata": {},
   "outputs": [],
   "source": []
  }
 ],
 "metadata": {
  "kernelspec": {
   "display_name": "Python 3 (ipykernel)",
   "language": "python",
   "name": "python3"
  },
  "language_info": {
   "codemirror_mode": {
    "name": "ipython",
    "version": 3
   },
   "file_extension": ".py",
   "mimetype": "text/x-python",
   "name": "python",
   "nbconvert_exporter": "python",
   "pygments_lexer": "ipython3",
   "version": "3.12.4"
  }
 },
 "nbformat": 4,
 "nbformat_minor": 5
}
