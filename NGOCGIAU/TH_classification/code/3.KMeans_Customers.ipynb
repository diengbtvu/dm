{
 "cells": [
  {
   "cell_type": "markdown",
   "id": "eec44dcb",
   "metadata": {},
   "source": [
    "### Step-by-step implementation"
   ]
  },
  {
   "cell_type": "code",
   "execution_count": null,
   "id": "290e6e41",
   "metadata": {},
   "outputs": [],
   "source": []
  },
  {
   "cell_type": "code",
   "execution_count": 4,
   "id": "95a9ea44",
   "metadata": {},
   "outputs": [
    {
     "name": "stderr",
     "output_type": "stream",
     "text": [
      "  WARNING: The scripts f2py.exe and numpy-config.exe are installed in 'c:\\Users\\Hoc vien\\AppData\\Local\\Programs\\Python\\Python310\\Scripts' which is not on PATH.\n",
      "  Consider adding this directory to PATH or, if you prefer to suppress this warning, use --no-warn-script-location.\n",
      "  WARNING: The scripts fonttools.exe, pyftmerge.exe, pyftsubset.exe and ttx.exe are installed in 'c:\\Users\\Hoc vien\\AppData\\Local\\Programs\\Python\\Python310\\Scripts' which is not on PATH.\n",
      "  Consider adding this directory to PATH or, if you prefer to suppress this warning, use --no-warn-script-location.\n",
      "\n",
      "[notice] A new release of pip available: 22.2.1 -> 25.1.1\n",
      "[notice] To update, run: python.exe -m pip install --upgrade pip\n"
     ]
    },
    {
     "name": "stdout",
     "output_type": "stream",
     "text": [
      "Collecting numpy\n",
      "  Downloading numpy-2.2.6-cp310-cp310-win_amd64.whl (12.9 MB)\n",
      "     --------------------------------------- 12.9/12.9 MB 40.9 MB/s eta 0:00:00\n",
      "Collecting matplotlib\n",
      "  Downloading matplotlib-3.10.3-cp310-cp310-win_amd64.whl (8.1 MB)\n",
      "     ---------------------------------------- 8.1/8.1 MB 46.8 MB/s eta 0:00:00\n",
      "Collecting scikit-learn\n",
      "  Downloading scikit_learn-1.6.1-cp310-cp310-win_amd64.whl (11.1 MB)\n",
      "     --------------------------------------- 11.1/11.1 MB 34.5 MB/s eta 0:00:00\n",
      "Requirement already satisfied: packaging>=20.0 in c:\\users\\hoc vien\\appdata\\roaming\\python\\python310\\site-packages (from matplotlib) (25.0)\n",
      "Collecting kiwisolver>=1.3.1\n",
      "  Downloading kiwisolver-1.4.8-cp310-cp310-win_amd64.whl (71 kB)\n",
      "     ---------------------------------------- 71.9/71.9 kB ? eta 0:00:00\n",
      "Requirement already satisfied: python-dateutil>=2.7 in c:\\users\\hoc vien\\appdata\\roaming\\python\\python310\\site-packages (from matplotlib) (2.9.0.post0)\n",
      "Collecting contourpy>=1.0.1\n",
      "  Downloading contourpy-1.3.2-cp310-cp310-win_amd64.whl (221 kB)\n",
      "     ---------------------------------------- 221.2/221.2 kB ? eta 0:00:00\n",
      "Collecting pyparsing>=2.3.1\n",
      "  Downloading pyparsing-3.2.3-py3-none-any.whl (111 kB)\n",
      "     ---------------------------------------- 111.1/111.1 kB ? eta 0:00:00\n",
      "Collecting pillow>=8\n",
      "  Downloading pillow-11.2.1-cp310-cp310-win_amd64.whl (2.7 MB)\n",
      "     ---------------------------------------- 2.7/2.7 MB 17.0 MB/s eta 0:00:00\n",
      "Collecting cycler>=0.10\n",
      "  Downloading cycler-0.12.1-py3-none-any.whl (8.3 kB)\n",
      "Collecting fonttools>=4.22.0\n",
      "  Downloading fonttools-4.58.0-cp310-cp310-win_amd64.whl (2.2 MB)\n",
      "     ---------------------------------------- 2.2/2.2 MB 17.8 MB/s eta 0:00:00\n",
      "Collecting threadpoolctl>=3.1.0\n",
      "  Downloading threadpoolctl-3.6.0-py3-none-any.whl (18 kB)\n",
      "Collecting scipy>=1.6.0\n",
      "  Downloading scipy-1.15.3-cp310-cp310-win_amd64.whl (41.3 MB)\n",
      "     --------------------------------------- 41.3/41.3 MB 15.2 MB/s eta 0:00:00\n",
      "Collecting joblib>=1.2.0\n",
      "  Downloading joblib-1.5.0-py3-none-any.whl (307 kB)\n",
      "     ------------------------------------- 307.7/307.7 kB 18.6 MB/s eta 0:00:00\n",
      "Requirement already satisfied: six>=1.5 in c:\\users\\hoc vien\\appdata\\roaming\\python\\python310\\site-packages (from python-dateutil>=2.7->matplotlib) (1.17.0)\n",
      "Installing collected packages: threadpoolctl, pyparsing, pillow, numpy, kiwisolver, joblib, fonttools, cycler, scipy, contourpy, scikit-learn, matplotlib\n",
      "Successfully installed contourpy-1.3.2 cycler-0.12.1 fonttools-4.58.0 joblib-1.5.0 kiwisolver-1.4.8 matplotlib-3.10.3 numpy-2.2.6 pillow-11.2.1 pyparsing-3.2.3 scikit-learn-1.6.1 scipy-1.15.3 threadpoolctl-3.6.0\n",
      "Note: you may need to restart the kernel to use updated packages.\n"
     ]
    }
   ],
   "source": [
    "%pip install numpy matplotlib scikit-learn\n",
    "\n",
    "import numpy as np\n",
    "from sklearn.cluster import KMeans\n",
    "import matplotlib.pyplot as plt"
   ]
  },
  {
   "cell_type": "code",
   "execution_count": 5,
   "id": "b6a35825",
   "metadata": {},
   "outputs": [],
   "source": [
    "import numpy as np\n",
    "\n",
    "age = np.array([18, 20, 22, \n",
    "                30, 34, 40, \n",
    "                60, 66, 70])\n",
    "\n",
    "expenditure = np.array([80, 90, 85, \n",
    "                   50, 64, 60, \n",
    "                   30, 40, 25])"
   ]
  },
  {
   "cell_type": "code",
   "execution_count": 6,
   "id": "d2fd775f",
   "metadata": {},
   "outputs": [
    {
     "name": "stdout",
     "output_type": "stream",
     "text": [
      "[[18 80]\n",
      " [20 90]\n",
      " [22 85]\n",
      " [30 50]\n",
      " [34 64]\n",
      " [40 60]\n",
      " [60 30]\n",
      " [66 40]\n",
      " [70 25]]\n"
     ]
    }
   ],
   "source": [
    "# 1. data\n",
    "\n",
    "X = np.column_stack((age, expenditure))\n",
    "print(X)"
   ]
  },
  {
   "cell_type": "code",
   "execution_count": 10,
   "id": "f8bb1085",
   "metadata": {},
   "outputs": [
    {
     "name": "stdout",
     "output_type": "stream",
     "text": [
      "Init centroids: \n",
      " [[22 85]\n",
      " [30 50]\n",
      " [34 64]]\n",
      "Labels: \n",
      " [0 0 0 1 2 2 1 1 1]\n",
      "Centroids:\n",
      " [[20.   85.  ]\n",
      " [56.5  36.25]\n",
      " [37.   62.  ]]\n",
      "\n",
      "Labels: \n",
      " [0 0 0 2 2 2 1 1 1]\n",
      "Centroids:\n",
      " [[20.         85.        ]\n",
      " [65.33333333 31.66666667]\n",
      " [34.66666667 58.        ]]\n",
      "\n",
      "WCSS: 380.0\n"
     ]
    }
   ],
   "source": [
    "k = 3\n",
    "max_iters = 2\n",
    "\n",
    "# initialize centroids\n",
    "centroids = X[2:k+2]\n",
    "print('Init centroids: \\n', centroids)\n",
    "\n",
    "for _ in range(max_iters):\n",
    "    # assign points \n",
    "    distances = np.linalg.norm(X[:, np.newaxis, :] - centroids, axis=2)\n",
    "    labels = np.argmin(distances, axis=1)\n",
    "    \n",
    "    # update centroids\n",
    "    new_centroids = np.array([X[labels == i].mean(axis=0) for i in range(k)])\n",
    "    \n",
    "    # check for convergence\n",
    "    if np.all(centroids == new_centroids):\n",
    "        break\n",
    "    \n",
    "    centroids = new_centroids    \n",
    "\n",
    "    # print\n",
    "    print(\"Labels: \\n\", labels)\n",
    "    print(\"Centroids:\\n\", centroids)\n",
    "    print()\n",
    "\n",
    "# calculate WCSS\n",
    "wcss = np.sum([np.sum(np.square(X[labels == i] - centroids[i])) for i in range(k)])\n",
    "print(\"WCSS:\", wcss)"
   ]
  },
  {
   "cell_type": "markdown",
   "id": "d1cb13de",
   "metadata": {},
   "source": [
    "### Using sklearn"
   ]
  },
  {
   "cell_type": "code",
   "execution_count": 11,
   "id": "2b8a0ae3",
   "metadata": {},
   "outputs": [
    {
     "name": "stdout",
     "output_type": "stream",
     "text": [
      "[0 0 0 2 2 2 1 1 1]\n",
      "380.0\n",
      "Cluster 0: [18 80]\n",
      "Cluster 0: [20 90]\n",
      "Cluster 0: [22 85]\n",
      "Cluster 2: [30 50]\n",
      "Cluster 2: [34 64]\n",
      "Cluster 2: [40 60]\n",
      "Cluster 1: [60 30]\n",
      "Cluster 1: [66 40]\n",
      "Cluster 1: [70 25]\n"
     ]
    }
   ],
   "source": [
    "from sklearn.cluster import KMeans\n",
    "\n",
    "kmeans = KMeans(n_clusters=3)\n",
    "kmeans.fit(X.reshape(-1, 2))\n",
    "labels = kmeans.labels_\n",
    "\n",
    "print(labels)\n",
    "print(kmeans.inertia_)\n",
    "\n",
    "for x, label in zip(X, labels):\n",
    "    print(f\"Cluster {label}: {x}\")"
   ]
  },
  {
   "cell_type": "code",
   "execution_count": 16,
   "id": "3d69535a",
   "metadata": {},
   "outputs": [
    {
     "data": {
      "image/png": "[encoded data removed]",
      "text/plain": [
       "<Figure size 640x480 with 1 Axes>"
      ]
     },
     "metadata": {},
     "output_type": "display_data"
    }
   ],
   "source": [
    "import matplotlib.pyplot as plt\n",
    "\n",
    "wcss_values = []\n",
    "for i in range(1, 9):\n",
    "    kmeans = KMeans(n_clusters=i)\n",
    "    kmeans.fit(X.reshape(-1, 2))\n",
    "    wcss = kmeans.inertia_\n",
    "    wcss_values.append(wcss)\n",
    "    \n",
    "plt.plot(range(1, 9), wcss_values)\n",
    "plt.xlabel('Number of Clusters')\n",
    "plt.ylabel('WCSS')\n",
    "plt.title('WCSS vs. Number of Clusters')\n",
    "plt.show()"
   ]
  },
  {
   "cell_type": "code",
   "execution_count": null,
   "id": "3c11d574",
   "metadata": {},
   "outputs": [],
   "source": []
  }
 ],
 "metadata": {
  "kernelspec": {
   "display_name": "Python 3",
   "language": "python",
   "name": "python3"
  },
  "language_info": {
   "codemirror_mode": {
    "name": "ipython",
    "version": 3
   },
   "file_extension": ".py",
   "mimetype": "text/x-python",
   "name": "python",
   "nbconvert_exporter": "python",
   "pygments_lexer": "ipython3",
   "version": "3.10.6"
  }
 },
 "nbformat": 4,
 "nbformat_minor": 5
}
